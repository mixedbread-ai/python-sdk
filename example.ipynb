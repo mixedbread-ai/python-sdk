{
 "cells": [
  {
   "cell_type": "code",
   "execution_count": null,
   "metadata": {},
   "outputs": [],
   "source": [
    "%pip install -U sentence_transformers mixedbread-ai"
   ]
  },
  {
   "cell_type": "code",
   "execution_count": 1,
   "metadata": {},
   "outputs": [],
   "source": [
    "from mixedbread_ai.client import MixedbreadAiApi, AsyncMixedbreadAiApi\n",
    "from sentence_transformers.util import cos_sim"
   ]
  },
  {
   "cell_type": "code",
   "execution_count": 3,
   "metadata": {},
   "outputs": [],
   "source": [
    "mxbai = MixedbreadAiApi(api_key=\"{API_KEY}\")\n",
    "mxbai_async = AsyncMixedbreadAiApi(api_key=\"{API_KEY}\")"
   ]
  },
  {
   "cell_type": "code",
   "execution_count": 4,
   "metadata": {},
   "outputs": [
    {
     "ename": "NotFoundError",
     "evalue": "status_code: 404, body: type=None url=None message='Not Found.' details=None",
     "output_type": "error",
     "traceback": [
      "\u001b[0;31m---------------------------------------------------------------------------\u001b[0m",
      "\u001b[0;31mNotFoundError\u001b[0m                             Traceback (most recent call last)",
      "Cell \u001b[0;32mIn[4], line 12\u001b[0m\n\u001b[1;32m      2\u001b[0m query \u001b[38;5;241m=\u001b[39m \u001b[38;5;124m\"\u001b[39m\u001b[38;5;124mWho wrote \u001b[39m\u001b[38;5;124m'\u001b[39m\u001b[38;5;124mTo Kill a Mockingbird\u001b[39m\u001b[38;5;124m'\u001b[39m\u001b[38;5;124m?\u001b[39m\u001b[38;5;124m\"\u001b[39m\n\u001b[1;32m      3\u001b[0m documents \u001b[38;5;241m=\u001b[39m [\n\u001b[1;32m      4\u001b[0m     \u001b[38;5;124m\"\u001b[39m\u001b[38;5;124m'\u001b[39m\u001b[38;5;124mTo Kill a Mockingbird\u001b[39m\u001b[38;5;124m'\u001b[39m\u001b[38;5;124m is a novel by Harper Lee published in 1960. It was immediately successful, winning the Pulitzer Prize, and has become a classic of modern American literature.\u001b[39m\u001b[38;5;124m\"\u001b[39m,\n\u001b[1;32m      5\u001b[0m     \u001b[38;5;124m\"\u001b[39m\u001b[38;5;124mThe novel \u001b[39m\u001b[38;5;124m'\u001b[39m\u001b[38;5;124mMoby-Dick\u001b[39m\u001b[38;5;124m'\u001b[39m\u001b[38;5;124m was written by Herman Melville and first published in 1851. It is considered a masterpiece of American literature and deals with complex themes of obsession, revenge, and the conflict between good and evil.\u001b[39m\u001b[38;5;124m\"\u001b[39m,\n\u001b[0;32m   (...)\u001b[0m\n\u001b[1;32m      9\u001b[0m     \u001b[38;5;124m\"\u001b[39m\u001b[38;5;124m'\u001b[39m\u001b[38;5;124mThe Great Gatsby\u001b[39m\u001b[38;5;124m'\u001b[39m\u001b[38;5;124m, a novel written by American author F. Scott Fitzgerald, was published in 1925. The story is set in the Jazz Age and follows the life of millionaire Jay Gatsby and his pursuit of Daisy Buchanan.\u001b[39m\u001b[38;5;124m\"\u001b[39m\n\u001b[1;32m     10\u001b[0m ]\n\u001b[0;32m---> 12\u001b[0m reranked \u001b[38;5;241m=\u001b[39m \u001b[43mmxbai\u001b[49m\u001b[38;5;241;43m.\u001b[39;49m\u001b[43mreranking\u001b[49m\u001b[43m(\u001b[49m\n\u001b[1;32m     13\u001b[0m \u001b[43m    \u001b[49m\u001b[43mmodel\u001b[49m\u001b[38;5;241;43m=\u001b[39;49m\u001b[43mmodel\u001b[49m\u001b[43m,\u001b[49m\n\u001b[1;32m     14\u001b[0m \u001b[43m    \u001b[49m\u001b[43mquery\u001b[49m\u001b[38;5;241;43m=\u001b[39;49m\u001b[43mquery\u001b[49m\u001b[43m,\u001b[49m\n\u001b[1;32m     15\u001b[0m \u001b[43m    \u001b[49m\u001b[38;5;28;43minput\u001b[39;49m\u001b[38;5;241;43m=\u001b[39;49m\u001b[43mdocuments\u001b[49m\n\u001b[1;32m     16\u001b[0m \u001b[43m)\u001b[49m\n\u001b[1;32m     18\u001b[0m reranked \u001b[38;5;241m=\u001b[39m \u001b[38;5;28;01mawait\u001b[39;00m mxbai_async\u001b[38;5;241m.\u001b[39mreranking(\n\u001b[1;32m     19\u001b[0m     model\u001b[38;5;241m=\u001b[39mmodel,\n\u001b[1;32m     20\u001b[0m     query\u001b[38;5;241m=\u001b[39mquery,\n\u001b[1;32m     21\u001b[0m     \u001b[38;5;28minput\u001b[39m\u001b[38;5;241m=\u001b[39mdocuments\n\u001b[1;32m     22\u001b[0m )\n\u001b[1;32m     24\u001b[0m reranked\n",
      "File \u001b[0;32m~/projects/current/mixedbread/mixedbread-ai/sdks/python-sdk/mixedbread_ai/client.py:195\u001b[0m, in \u001b[0;36mMixedbreadAiApi.reranking\u001b[0;34m(self, model, input, query, top_k, return_input)\u001b[0m\n\u001b[1;32m    193\u001b[0m     \u001b[38;5;28;01mraise\u001b[39;00m ForbiddenError(pydantic\u001b[38;5;241m.\u001b[39mparse_obj_as(ForbiddenErrorBody, _response\u001b[38;5;241m.\u001b[39mjson()))  \u001b[38;5;66;03m# type: ignore\u001b[39;00m\n\u001b[1;32m    194\u001b[0m \u001b[38;5;28;01mif\u001b[39;00m _response\u001b[38;5;241m.\u001b[39mstatus_code \u001b[38;5;241m==\u001b[39m \u001b[38;5;241m404\u001b[39m:\n\u001b[0;32m--> 195\u001b[0m     \u001b[38;5;28;01mraise\u001b[39;00m NotFoundError(pydantic\u001b[38;5;241m.\u001b[39mparse_obj_as(NotFoundErrorBody, _response\u001b[38;5;241m.\u001b[39mjson()))  \u001b[38;5;66;03m# type: ignore\u001b[39;00m\n\u001b[1;32m    196\u001b[0m \u001b[38;5;28;01mif\u001b[39;00m _response\u001b[38;5;241m.\u001b[39mstatus_code \u001b[38;5;241m==\u001b[39m \u001b[38;5;241m422\u001b[39m:\n\u001b[1;32m    197\u001b[0m     \u001b[38;5;28;01mraise\u001b[39;00m UnprocessableEntityError(\n\u001b[1;32m    198\u001b[0m         pydantic\u001b[38;5;241m.\u001b[39mparse_obj_as(UnprocessableEntityErrorBody, _response\u001b[38;5;241m.\u001b[39mjson())  \u001b[38;5;66;03m# type: ignore\u001b[39;00m\n\u001b[1;32m    199\u001b[0m     )\n",
      "\u001b[0;31mNotFoundError\u001b[0m: status_code: 404, body: type=None url=None message='Not Found.' details=None"
     ]
    }
   ],
   "source": [
    "model = \"mixedbread-ai/mxbai-rerank-xsmall-v1\"\n",
    "query = \"Who wrote 'To Kill a Mockingbird'?\"\n",
    "documents = [\n",
    "    \"'To Kill a Mockingbird' is a novel by Harper Lee published in 1960. It was immediately successful, winning the Pulitzer Prize, and has become a classic of modern American literature.\",\n",
    "    \"The novel 'Moby-Dick' was written by Herman Melville and first published in 1851. It is considered a masterpiece of American literature and deals with complex themes of obsession, revenge, and the conflict between good and evil.\",\n",
    "    \"Harper Lee, an American novelist widely known for her novel 'To Kill a Mockingbird', was born in 1926 in Monroeville, Alabama. She received the Pulitzer Prize for Fiction in 1961.\",\n",
    "    \"Jane Austen was an English novelist known primarily for her six major novels, which interpret, critique and comment upon the British landed gentry at the end of the 18th century.\",\n",
    "    \"The 'Harry Potter' series, which consists of seven fantasy novels written by British author J.K. Rowling, is among the most popular and critically acclaimed books of the modern era.\",\n",
    "    \"'The Great Gatsby', a novel written by American author F. Scott Fitzgerald, was published in 1925. The story is set in the Jazz Age and follows the life of millionaire Jay Gatsby and his pursuit of Daisy Buchanan.\"\n",
    "]\n",
    "\n",
    "reranked = mxbai.reranking(\n",
    "    model=model,\n",
    "    query=query,\n",
    "    input=documents\n",
    ")\n",
    "\n",
    "reranked = await mxbai_async.reranking(\n",
    "    model=model,\n",
    "    query=query,\n",
    "    input=documents\n",
    ")\n",
    "\n",
    "reranked"
   ]
  },
  {
   "cell_type": "code",
   "execution_count": 6,
   "metadata": {},
   "outputs": [
    {
     "ename": "UnauthorizedError",
     "evalue": "status_code: 401, body: type=None url=None message='Unauthorized. The request requires a valid api key.' details=None",
     "output_type": "error",
     "traceback": [
      "\u001b[0;31m---------------------------------------------------------------------------\u001b[0m",
      "\u001b[0;31mUnauthorizedError\u001b[0m                         Traceback (most recent call last)",
      "Cell \u001b[0;32mIn[6], line 12\u001b[0m\n\u001b[1;32m      2\u001b[0m query \u001b[38;5;241m=\u001b[39m \u001b[38;5;124m'\u001b[39m\u001b[38;5;124mRepresent this sentence for searching relevant passages: A man is eating a piece of bread\u001b[39m\u001b[38;5;124m'\u001b[39m\n\u001b[1;32m      4\u001b[0m docs \u001b[38;5;241m=\u001b[39m [\n\u001b[1;32m      5\u001b[0m     query,\n\u001b[1;32m      6\u001b[0m     \u001b[38;5;124m\"\u001b[39m\u001b[38;5;124mA man is eating food.\u001b[39m\u001b[38;5;124m\"\u001b[39m,\n\u001b[0;32m   (...)\u001b[0m\n\u001b[1;32m      9\u001b[0m     \u001b[38;5;124m\"\u001b[39m\u001b[38;5;124mA man is riding a horse.\u001b[39m\u001b[38;5;124m\"\u001b[39m,\n\u001b[1;32m     10\u001b[0m ]\n\u001b[0;32m---> 12\u001b[0m response \u001b[38;5;241m=\u001b[39m \u001b[43mmxbai\u001b[49m\u001b[38;5;241;43m.\u001b[39;49m\u001b[43membeddings\u001b[49m\u001b[43m(\u001b[49m\u001b[43mmodel\u001b[49m\u001b[38;5;241;43m=\u001b[39;49m\u001b[43mmodel\u001b[49m\u001b[43m,\u001b[49m\u001b[43m \u001b[49m\u001b[38;5;28;43minput\u001b[39;49m\u001b[38;5;241;43m=\u001b[39;49m\u001b[43mdocs\u001b[49m\u001b[43m)\u001b[49m\n\u001b[1;32m     13\u001b[0m embeddings \u001b[38;5;241m=\u001b[39m [data\u001b[38;5;241m.\u001b[39membedding \u001b[38;5;28;01mfor\u001b[39;00m data \u001b[38;5;129;01min\u001b[39;00m response\u001b[38;5;241m.\u001b[39mdata]\n\u001b[1;32m     14\u001b[0m similarities \u001b[38;5;241m=\u001b[39m cos_sim(embeddings[\u001b[38;5;241m0\u001b[39m], embeddings[\u001b[38;5;241m1\u001b[39m:])\n",
      "File \u001b[0;32m~/projects/current/mixedbread/mixedbread-ai/sdks/python-sdk/mixedbread_ai/client.py:126\u001b[0m, in \u001b[0;36mMixedbreadAiApi.embeddings\u001b[0;34m(self, model, input, normalized, encoding_format, truncation_strategy, dimensions, instruction, texts, prompt)\u001b[0m\n\u001b[1;32m    124\u001b[0m     \u001b[38;5;28;01mraise\u001b[39;00m BadRequestError(pydantic\u001b[38;5;241m.\u001b[39mparse_obj_as(BadRequestErrorBody, _response\u001b[38;5;241m.\u001b[39mjson()))  \u001b[38;5;66;03m# type: ignore\u001b[39;00m\n\u001b[1;32m    125\u001b[0m \u001b[38;5;28;01mif\u001b[39;00m _response\u001b[38;5;241m.\u001b[39mstatus_code \u001b[38;5;241m==\u001b[39m \u001b[38;5;241m401\u001b[39m:\n\u001b[0;32m--> 126\u001b[0m     \u001b[38;5;28;01mraise\u001b[39;00m UnauthorizedError(pydantic\u001b[38;5;241m.\u001b[39mparse_obj_as(UnauthorizedErrorBody, _response\u001b[38;5;241m.\u001b[39mjson()))  \u001b[38;5;66;03m# type: ignore\u001b[39;00m\n\u001b[1;32m    127\u001b[0m \u001b[38;5;28;01mif\u001b[39;00m _response\u001b[38;5;241m.\u001b[39mstatus_code \u001b[38;5;241m==\u001b[39m \u001b[38;5;241m403\u001b[39m:\n\u001b[1;32m    128\u001b[0m     \u001b[38;5;28;01mraise\u001b[39;00m ForbiddenError(pydantic\u001b[38;5;241m.\u001b[39mparse_obj_as(ForbiddenErrorBody, _response\u001b[38;5;241m.\u001b[39mjson()))  \u001b[38;5;66;03m# type: ignore\u001b[39;00m\n",
      "\u001b[0;31mUnauthorizedError\u001b[0m: status_code: 401, body: type=None url=None message='Unauthorized. The request requires a valid api key.' details=None"
     ]
    }
   ],
   "source": [
    "model = \"mixedbread-ai/mxbai-embed-large-v1\"\n",
    "query = 'Represent this sentence for searching relevant passages: A man is eating a piece of bread'\n",
    "\n",
    "docs = [\n",
    "    query,\n",
    "    \"A man is eating food.\",\n",
    "    \"A man is eating pasta.\",\n",
    "    \"The girl is carrying a baby.\",\n",
    "    \"A man is riding a horse.\",\n",
    "]\n",
    "\n",
    "response = mxbai.embeddings(model=model, input=docs)\n",
    "embeddings = [data.embedding for data in response.data]\n",
    "similarities = cos_sim(embeddings[0], embeddings[1:])\n"
   ]
  },
  {
   "cell_type": "code",
   "execution_count": null,
   "metadata": {},
   "outputs": [],
   "source": []
  },
  {
   "cell_type": "code",
   "execution_count": null,
   "metadata": {},
   "outputs": [],
   "source": []
  }
 ],
 "metadata": {
  "kernelspec": {
   "display_name": "Python 3",
   "language": "python",
   "name": "python3"
  },
  "language_info": {
   "codemirror_mode": {
    "name": "ipython",
    "version": 3
   },
   "file_extension": ".py",
   "mimetype": "text/x-python",
   "name": "python",
   "nbconvert_exporter": "python",
   "pygments_lexer": "ipython3",
   "version": "3.9.6"
  }
 },
 "nbformat": 4,
 "nbformat_minor": 2
}
