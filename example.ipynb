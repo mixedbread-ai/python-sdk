{
 "cells": [
  {
   "cell_type": "code",
   "execution_count": 5,
   "metadata": {
    "ExecuteTime": {
     "end_time": "2024-06-25T14:15:42.314436Z",
     "start_time": "2024-06-25T14:15:39.877566Z"
    }
   },
   "outputs": [
    {
     "name": "stdout",
     "output_type": "stream",
     "text": [
      "Requirement already satisfied: sentence_transformers in /Users/rui/Library/Caches/pypoetry/virtualenvs/mixedbread-ai-5K47HNrU-py3.12/lib/python3.12/site-packages (3.0.1)\r\n",
      "Requirement already satisfied: mixedbread-ai in /Users/rui/Library/Caches/pypoetry/virtualenvs/mixedbread-ai-5K47HNrU-py3.12/lib/python3.12/site-packages (2.2.3)\r\n",
      "Collecting mixedbread-ai\r\n",
      "  Downloading mixedbread_ai-2.2.4-py3-none-any.whl.metadata (5.9 kB)\r\n",
      "Requirement already satisfied: transformers<5.0.0,>=4.34.0 in /Users/rui/Library/Caches/pypoetry/virtualenvs/mixedbread-ai-5K47HNrU-py3.12/lib/python3.12/site-packages (from sentence_transformers) (4.41.2)\r\n",
      "Requirement already satisfied: tqdm in /Users/rui/Library/Caches/pypoetry/virtualenvs/mixedbread-ai-5K47HNrU-py3.12/lib/python3.12/site-packages (from sentence_transformers) (4.66.4)\r\n",
      "Requirement already satisfied: torch>=1.11.0 in /Users/rui/Library/Caches/pypoetry/virtualenvs/mixedbread-ai-5K47HNrU-py3.12/lib/python3.12/site-packages (from sentence_transformers) (2.3.1)\r\n",
      "Requirement already satisfied: numpy in /Users/rui/Library/Caches/pypoetry/virtualenvs/mixedbread-ai-5K47HNrU-py3.12/lib/python3.12/site-packages (from sentence_transformers) (2.0.0)\r\n",
      "Requirement already satisfied: scikit-learn in /Users/rui/Library/Caches/pypoetry/virtualenvs/mixedbread-ai-5K47HNrU-py3.12/lib/python3.12/site-packages (from sentence_transformers) (1.5.0)\r\n",
      "Requirement already satisfied: scipy in /Users/rui/Library/Caches/pypoetry/virtualenvs/mixedbread-ai-5K47HNrU-py3.12/lib/python3.12/site-packages (from sentence_transformers) (1.14.0)\r\n",
      "Requirement already satisfied: huggingface-hub>=0.15.1 in /Users/rui/Library/Caches/pypoetry/virtualenvs/mixedbread-ai-5K47HNrU-py3.12/lib/python3.12/site-packages (from sentence_transformers) (0.23.4)\r\n",
      "Requirement already satisfied: Pillow in /Users/rui/Library/Caches/pypoetry/virtualenvs/mixedbread-ai-5K47HNrU-py3.12/lib/python3.12/site-packages (from sentence_transformers) (10.3.0)\r\n",
      "Requirement already satisfied: httpx>=0.21.2 in /Users/rui/Library/Caches/pypoetry/virtualenvs/mixedbread-ai-5K47HNrU-py3.12/lib/python3.12/site-packages (from mixedbread-ai) (0.27.0)\r\n",
      "Requirement already satisfied: pydantic>=1.9.2 in /Users/rui/Library/Caches/pypoetry/virtualenvs/mixedbread-ai-5K47HNrU-py3.12/lib/python3.12/site-packages (from mixedbread-ai) (2.7.4)\r\n",
      "Requirement already satisfied: typing_extensions>=4.0.0 in /Users/rui/Library/Caches/pypoetry/virtualenvs/mixedbread-ai-5K47HNrU-py3.12/lib/python3.12/site-packages (from mixedbread-ai) (4.12.2)\r\n",
      "Requirement already satisfied: anyio in /Users/rui/Library/Caches/pypoetry/virtualenvs/mixedbread-ai-5K47HNrU-py3.12/lib/python3.12/site-packages (from httpx>=0.21.2->mixedbread-ai) (4.4.0)\r\n",
      "Requirement already satisfied: certifi in /Users/rui/Library/Caches/pypoetry/virtualenvs/mixedbread-ai-5K47HNrU-py3.12/lib/python3.12/site-packages (from httpx>=0.21.2->mixedbread-ai) (2024.6.2)\r\n",
      "Requirement already satisfied: httpcore==1.* in /Users/rui/Library/Caches/pypoetry/virtualenvs/mixedbread-ai-5K47HNrU-py3.12/lib/python3.12/site-packages (from httpx>=0.21.2->mixedbread-ai) (1.0.5)\r\n",
      "Requirement already satisfied: idna in /Users/rui/Library/Caches/pypoetry/virtualenvs/mixedbread-ai-5K47HNrU-py3.12/lib/python3.12/site-packages (from httpx>=0.21.2->mixedbread-ai) (3.7)\r\n",
      "Requirement already satisfied: sniffio in /Users/rui/Library/Caches/pypoetry/virtualenvs/mixedbread-ai-5K47HNrU-py3.12/lib/python3.12/site-packages (from httpx>=0.21.2->mixedbread-ai) (1.3.1)\r\n",
      "Requirement already satisfied: h11<0.15,>=0.13 in /Users/rui/Library/Caches/pypoetry/virtualenvs/mixedbread-ai-5K47HNrU-py3.12/lib/python3.12/site-packages (from httpcore==1.*->httpx>=0.21.2->mixedbread-ai) (0.14.0)\r\n",
      "Requirement already satisfied: filelock in /Users/rui/Library/Caches/pypoetry/virtualenvs/mixedbread-ai-5K47HNrU-py3.12/lib/python3.12/site-packages (from huggingface-hub>=0.15.1->sentence_transformers) (3.15.4)\r\n",
      "Requirement already satisfied: fsspec>=2023.5.0 in /Users/rui/Library/Caches/pypoetry/virtualenvs/mixedbread-ai-5K47HNrU-py3.12/lib/python3.12/site-packages (from huggingface-hub>=0.15.1->sentence_transformers) (2024.6.0)\r\n",
      "Requirement already satisfied: packaging>=20.9 in /Users/rui/Library/Caches/pypoetry/virtualenvs/mixedbread-ai-5K47HNrU-py3.12/lib/python3.12/site-packages (from huggingface-hub>=0.15.1->sentence_transformers) (24.1)\r\n",
      "Requirement already satisfied: pyyaml>=5.1 in /Users/rui/Library/Caches/pypoetry/virtualenvs/mixedbread-ai-5K47HNrU-py3.12/lib/python3.12/site-packages (from huggingface-hub>=0.15.1->sentence_transformers) (6.0.1)\r\n",
      "Requirement already satisfied: requests in /Users/rui/Library/Caches/pypoetry/virtualenvs/mixedbread-ai-5K47HNrU-py3.12/lib/python3.12/site-packages (from huggingface-hub>=0.15.1->sentence_transformers) (2.32.3)\r\n",
      "Requirement already satisfied: annotated-types>=0.4.0 in /Users/rui/Library/Caches/pypoetry/virtualenvs/mixedbread-ai-5K47HNrU-py3.12/lib/python3.12/site-packages (from pydantic>=1.9.2->mixedbread-ai) (0.7.0)\r\n",
      "Requirement already satisfied: pydantic-core==2.18.4 in /Users/rui/Library/Caches/pypoetry/virtualenvs/mixedbread-ai-5K47HNrU-py3.12/lib/python3.12/site-packages (from pydantic>=1.9.2->mixedbread-ai) (2.18.4)\r\n",
      "Requirement already satisfied: sympy in /Users/rui/Library/Caches/pypoetry/virtualenvs/mixedbread-ai-5K47HNrU-py3.12/lib/python3.12/site-packages (from torch>=1.11.0->sentence_transformers) (1.12.1)\r\n",
      "Requirement already satisfied: networkx in /Users/rui/Library/Caches/pypoetry/virtualenvs/mixedbread-ai-5K47HNrU-py3.12/lib/python3.12/site-packages (from torch>=1.11.0->sentence_transformers) (3.3)\r\n",
      "Requirement already satisfied: jinja2 in /Users/rui/Library/Caches/pypoetry/virtualenvs/mixedbread-ai-5K47HNrU-py3.12/lib/python3.12/site-packages (from torch>=1.11.0->sentence_transformers) (3.1.4)\r\n",
      "Requirement already satisfied: regex!=2019.12.17 in /Users/rui/Library/Caches/pypoetry/virtualenvs/mixedbread-ai-5K47HNrU-py3.12/lib/python3.12/site-packages (from transformers<5.0.0,>=4.34.0->sentence_transformers) (2024.5.15)\r\n",
      "Requirement already satisfied: tokenizers<0.20,>=0.19 in /Users/rui/Library/Caches/pypoetry/virtualenvs/mixedbread-ai-5K47HNrU-py3.12/lib/python3.12/site-packages (from transformers<5.0.0,>=4.34.0->sentence_transformers) (0.19.1)\r\n",
      "Requirement already satisfied: safetensors>=0.4.1 in /Users/rui/Library/Caches/pypoetry/virtualenvs/mixedbread-ai-5K47HNrU-py3.12/lib/python3.12/site-packages (from transformers<5.0.0,>=4.34.0->sentence_transformers) (0.4.3)\r\n",
      "Requirement already satisfied: joblib>=1.2.0 in /Users/rui/Library/Caches/pypoetry/virtualenvs/mixedbread-ai-5K47HNrU-py3.12/lib/python3.12/site-packages (from scikit-learn->sentence_transformers) (1.4.2)\r\n",
      "Requirement already satisfied: threadpoolctl>=3.1.0 in /Users/rui/Library/Caches/pypoetry/virtualenvs/mixedbread-ai-5K47HNrU-py3.12/lib/python3.12/site-packages (from scikit-learn->sentence_transformers) (3.5.0)\r\n",
      "Requirement already satisfied: MarkupSafe>=2.0 in /Users/rui/Library/Caches/pypoetry/virtualenvs/mixedbread-ai-5K47HNrU-py3.12/lib/python3.12/site-packages (from jinja2->torch>=1.11.0->sentence_transformers) (2.1.5)\r\n",
      "Requirement already satisfied: charset-normalizer<4,>=2 in /Users/rui/Library/Caches/pypoetry/virtualenvs/mixedbread-ai-5K47HNrU-py3.12/lib/python3.12/site-packages (from requests->huggingface-hub>=0.15.1->sentence_transformers) (3.3.2)\r\n",
      "Requirement already satisfied: urllib3<3,>=1.21.1 in /Users/rui/Library/Caches/pypoetry/virtualenvs/mixedbread-ai-5K47HNrU-py3.12/lib/python3.12/site-packages (from requests->huggingface-hub>=0.15.1->sentence_transformers) (2.2.2)\r\n",
      "Requirement already satisfied: mpmath<1.4.0,>=1.1.0 in /Users/rui/Library/Caches/pypoetry/virtualenvs/mixedbread-ai-5K47HNrU-py3.12/lib/python3.12/site-packages (from sympy->torch>=1.11.0->sentence_transformers) (1.3.0)\r\n",
      "Downloading mixedbread_ai-2.2.4-py3-none-any.whl (39 kB)\r\n",
      "Installing collected packages: mixedbread-ai\r\n",
      "  Attempting uninstall: mixedbread-ai\r\n",
      "    Found existing installation: mixedbread-ai 2.2.3\r\n",
      "    Uninstalling mixedbread-ai-2.2.3:\r\n",
      "      Successfully uninstalled mixedbread-ai-2.2.3\r\n",
      "Successfully installed mixedbread-ai-2.2.4\r\n",
      "\r\n",
      "\u001B[1m[\u001B[0m\u001B[34;49mnotice\u001B[0m\u001B[1;39;49m]\u001B[0m\u001B[39;49m A new release of pip is available: \u001B[0m\u001B[31;49m24.0\u001B[0m\u001B[39;49m -> \u001B[0m\u001B[32;49m24.1\u001B[0m\r\n",
      "\u001B[1m[\u001B[0m\u001B[34;49mnotice\u001B[0m\u001B[1;39;49m]\u001B[0m\u001B[39;49m To update, run: \u001B[0m\u001B[32;49mpip install --upgrade pip\u001B[0m\r\n",
      "Note: you may need to restart the kernel to use updated packages.\n"
     ]
    }
   ],
   "source": [
    "%pip install -U sentence_transformers mixedbread-ai"
   ]
  },
  {
   "cell_type": "code",
   "execution_count": 1,
   "metadata": {
    "ExecuteTime": {
     "end_time": "2024-06-26T14:42:17.810725Z",
     "start_time": "2024-06-26T14:42:16.852916Z"
    }
   },
   "outputs": [],
   "source": [
    "from mixedbread_ai.client import MixedbreadAI, AsyncMixedbreadAI"
   ]
  },
  {
   "cell_type": "code",
   "execution_count": 7,
   "metadata": {
    "ExecuteTime": {
     "end_time": "2024-06-25T14:15:56.495782Z",
     "start_time": "2024-06-25T14:15:56.470654Z"
    }
   },
   "outputs": [],
   "source": [
    "api_key = \"YOUR_API_KEY\"\n",
    "\n",
    "mxbai = MixedbreadAI(api_key=api_key)\n",
    "mxbai_async = AsyncMixedbreadAI(api_key=api_key)"
   ]
  },
  {
   "cell_type": "code",
   "execution_count": 8,
   "metadata": {
    "ExecuteTime": {
     "end_time": "2024-06-25T14:15:58.279496Z",
     "start_time": "2024-06-25T14:15:57.550139Z"
    }
   },
   "outputs": [
    {
     "data": {
      "text/plain": "RerankingResponse(usage=Usage(prompt_tokens=307, total_tokens=307, completion_tokens=None), model='mixedbread-ai/mxbai-rerank-large-v1', data=[RankedDocument(index=0, score=0.9980469, input=None, object=<ObjectType.TEXT_DOCUMENT: 'text_document'>), RankedDocument(index=2, score=0.9970703, input=None, object=<ObjectType.TEXT_DOCUMENT: 'text_document'>), RankedDocument(index=5, score=0.029418945, input=None, object=<ObjectType.TEXT_DOCUMENT: 'text_document'>), RankedDocument(index=3, score=0.025283813, input=None, object=<ObjectType.TEXT_DOCUMENT: 'text_document'>), RankedDocument(index=1, score=0.02281189, input=None, object=<ObjectType.TEXT_DOCUMENT: 'text_document'>), RankedDocument(index=4, score=0.006072998, input=None, object=<ObjectType.TEXT_DOCUMENT: 'text_document'>)], object=<ObjectType.LIST: 'list'>, top_k=6, return_input=False)"
     },
     "execution_count": 8,
     "metadata": {},
     "output_type": "execute_result"
    }
   ],
   "source": [
    "model = \"mixedbread-ai/mxbai-rerank-large-v1\"\n",
    "query = \"Who wrote 'To Kill a Mockingbird'?\"\n",
    "documents = [\n",
    "    \"'To Kill a Mockingbird' is a novel by Harper Lee published in 1960. It was immediately successful, winning the Pulitzer Prize, and has become a classic of modern American literature.\",\n",
    "    \"The novel 'Moby-Dick' was written by Herman Melville and first published in 1851. It is considered a masterpiece of American literature and deals with complex themes of obsession, revenge, and the conflict between good and evil.\",\n",
    "    \"Harper Lee, an American novelist widely known for her novel 'To Kill a Mockingbird', was born in 1926 in Monroeville, Alabama. She received the Pulitzer Prize for Fiction in 1961.\",\n",
    "    \"Jane Austen was an English novelist known primarily for her six major novels, which interpret, critique and comment upon the British landed gentry at the end of the 18th century.\",\n",
    "    \"The 'Harry Potter' series, which consists of seven fantasy novels written by British author J.K. Rowling, is among the most popular and critically acclaimed books of the modern era.\",\n",
    "    \"'The Great Gatsby', a novel written by American author F. Scott Fitzgerald, was published in 1925. The story is set in the Jazz Age and follows the life of millionaire Jay Gatsby and his pursuit of Daisy Buchanan.\"\n",
    "]\n",
    "\n",
    "reranked = mxbai.reranking(\n",
    "    model=model,\n",
    "    query=query,\n",
    "    input=documents\n",
    ")\n",
    "\n",
    "await mxbai_async.reranking(\n",
    "    model=model,\n",
    "    query=query,\n",
    "    input=documents\n",
    ")"
   ]
  },
  {
   "cell_type": "code",
   "outputs": [],
   "source": [],
   "metadata": {
    "collapsed": false
   }
  }
 ],
 "metadata": {
  "kernelspec": {
   "display_name": "Python 3",
   "language": "python",
   "name": "python3"
  },
  "language_info": {
   "codemirror_mode": {
    "name": "ipython",
    "version": 3
   },
   "file_extension": ".py",
   "mimetype": "text/x-python",
   "name": "python",
   "nbconvert_exporter": "python",
   "pygments_lexer": "ipython3",
   "version": "3.9.6"
  }
 },
 "nbformat": 4,
 "nbformat_minor": 2
}
