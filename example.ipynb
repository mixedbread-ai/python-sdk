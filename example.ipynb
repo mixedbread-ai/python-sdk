{
 "cells": [
  {
   "cell_type": "code",
   "execution_count": 5,
   "metadata": {
    "ExecuteTime": {
     "end_time": "2024-04-02T11:20:18.463982Z",
     "start_time": "2024-04-02T11:20:17.228002Z"
    }
   },
   "outputs": [
    {
     "name": "stdout",
     "output_type": "stream",
     "text": [
      "Requirement already satisfied: sentence_transformers in /opt/homebrew/lib/python3.10/site-packages (2.6.1)\r\n",
      "Requirement already satisfied: mixedbread-ai in /opt/homebrew/lib/python3.10/site-packages (1.2.5)\r\n",
      "Requirement already satisfied: transformers<5.0.0,>=4.32.0 in /opt/homebrew/lib/python3.10/site-packages (from sentence_transformers) (4.38.2)\r\n",
      "Requirement already satisfied: tqdm in /opt/homebrew/lib/python3.10/site-packages (from sentence_transformers) (4.66.2)\r\n",
      "Requirement already satisfied: torch>=1.11.0 in /opt/homebrew/lib/python3.10/site-packages (from sentence_transformers) (2.2.1)\r\n",
      "Requirement already satisfied: numpy in /opt/homebrew/lib/python3.10/site-packages (from sentence_transformers) (1.26.4)\r\n",
      "Requirement already satisfied: scikit-learn in /opt/homebrew/lib/python3.10/site-packages (from sentence_transformers) (1.4.1.post1)\r\n",
      "Requirement already satisfied: scipy in /opt/homebrew/lib/python3.10/site-packages (from sentence_transformers) (1.12.0)\r\n",
      "Requirement already satisfied: huggingface-hub>=0.15.1 in /opt/homebrew/lib/python3.10/site-packages (from sentence_transformers) (0.22.1)\r\n",
      "Requirement already satisfied: Pillow in /opt/homebrew/lib/python3.10/site-packages (from sentence_transformers) (10.2.0)\r\n",
      "Requirement already satisfied: attrs>=21.3.0 in /opt/homebrew/lib/python3.10/site-packages (from mixedbread-ai) (23.2.0)\r\n",
      "Requirement already satisfied: httpx<0.25.0,>=0.15.4 in /opt/homebrew/lib/python3.10/site-packages (from mixedbread-ai) (0.24.1)\r\n",
      "Requirement already satisfied: python-dateutil<3.0.0,>=2.8.0 in /opt/homebrew/lib/python3.10/site-packages (from mixedbread-ai) (2.9.0.post0)\r\n",
      "Requirement already satisfied: certifi in /opt/homebrew/lib/python3.10/site-packages (from httpx<0.25.0,>=0.15.4->mixedbread-ai) (2024.2.2)\r\n",
      "Requirement already satisfied: httpcore<0.18.0,>=0.15.0 in /opt/homebrew/lib/python3.10/site-packages (from httpx<0.25.0,>=0.15.4->mixedbread-ai) (0.17.3)\r\n",
      "Requirement already satisfied: idna in /opt/homebrew/lib/python3.10/site-packages (from httpx<0.25.0,>=0.15.4->mixedbread-ai) (3.6)\r\n",
      "Requirement already satisfied: sniffio in /opt/homebrew/lib/python3.10/site-packages (from httpx<0.25.0,>=0.15.4->mixedbread-ai) (1.3.1)\r\n",
      "Requirement already satisfied: filelock in /opt/homebrew/lib/python3.10/site-packages (from huggingface-hub>=0.15.1->sentence_transformers) (3.13.3)\r\n",
      "Requirement already satisfied: fsspec>=2023.5.0 in /opt/homebrew/lib/python3.10/site-packages (from huggingface-hub>=0.15.1->sentence_transformers) (2024.2.0)\r\n",
      "Requirement already satisfied: packaging>=20.9 in /opt/homebrew/lib/python3.10/site-packages (from huggingface-hub>=0.15.1->sentence_transformers) (24.0)\r\n",
      "Requirement already satisfied: pyyaml>=5.1 in /opt/homebrew/lib/python3.10/site-packages (from huggingface-hub>=0.15.1->sentence_transformers) (6.0.1)\r\n",
      "Requirement already satisfied: requests in /opt/homebrew/lib/python3.10/site-packages (from huggingface-hub>=0.15.1->sentence_transformers) (2.31.0)\r\n",
      "Requirement already satisfied: typing-extensions>=3.7.4.3 in /opt/homebrew/lib/python3.10/site-packages (from huggingface-hub>=0.15.1->sentence_transformers) (4.10.0)\r\n",
      "Requirement already satisfied: six>=1.5 in /opt/homebrew/lib/python3.10/site-packages (from python-dateutil<3.0.0,>=2.8.0->mixedbread-ai) (1.16.0)\r\n",
      "Requirement already satisfied: sympy in /opt/homebrew/lib/python3.10/site-packages (from torch>=1.11.0->sentence_transformers) (1.12)\r\n",
      "Requirement already satisfied: networkx in /opt/homebrew/lib/python3.10/site-packages (from torch>=1.11.0->sentence_transformers) (3.2.1)\r\n",
      "Requirement already satisfied: jinja2 in /opt/homebrew/lib/python3.10/site-packages (from torch>=1.11.0->sentence_transformers) (3.1.3)\r\n",
      "Requirement already satisfied: regex!=2019.12.17 in /opt/homebrew/lib/python3.10/site-packages (from transformers<5.0.0,>=4.32.0->sentence_transformers) (2023.12.25)\r\n",
      "Requirement already satisfied: tokenizers<0.19,>=0.14 in /opt/homebrew/lib/python3.10/site-packages (from transformers<5.0.0,>=4.32.0->sentence_transformers) (0.15.2)\r\n",
      "Requirement already satisfied: safetensors>=0.4.1 in /opt/homebrew/lib/python3.10/site-packages (from transformers<5.0.0,>=4.32.0->sentence_transformers) (0.4.2)\r\n",
      "Requirement already satisfied: joblib>=1.2.0 in /opt/homebrew/lib/python3.10/site-packages (from scikit-learn->sentence_transformers) (1.3.2)\r\n",
      "Requirement already satisfied: threadpoolctl>=2.0.0 in /opt/homebrew/lib/python3.10/site-packages (from scikit-learn->sentence_transformers) (3.4.0)\r\n",
      "Requirement already satisfied: h11<0.15,>=0.13 in /opt/homebrew/lib/python3.10/site-packages (from httpcore<0.18.0,>=0.15.0->httpx<0.25.0,>=0.15.4->mixedbread-ai) (0.14.0)\r\n",
      "Requirement already satisfied: anyio<5.0,>=3.0 in /opt/homebrew/lib/python3.10/site-packages (from httpcore<0.18.0,>=0.15.0->httpx<0.25.0,>=0.15.4->mixedbread-ai) (4.3.0)\r\n",
      "Requirement already satisfied: MarkupSafe>=2.0 in /opt/homebrew/lib/python3.10/site-packages (from jinja2->torch>=1.11.0->sentence_transformers) (2.1.5)\r\n",
      "Requirement already satisfied: charset-normalizer<4,>=2 in /opt/homebrew/lib/python3.10/site-packages (from requests->huggingface-hub>=0.15.1->sentence_transformers) (3.3.2)\r\n",
      "Requirement already satisfied: urllib3<3,>=1.21.1 in /opt/homebrew/lib/python3.10/site-packages (from requests->huggingface-hub>=0.15.1->sentence_transformers) (2.2.1)\r\n",
      "Requirement already satisfied: mpmath>=0.19 in /opt/homebrew/lib/python3.10/site-packages (from sympy->torch>=1.11.0->sentence_transformers) (1.3.0)\r\n",
      "Requirement already satisfied: exceptiongroup>=1.0.2 in /opt/homebrew/lib/python3.10/site-packages (from anyio<5.0,>=3.0->httpcore<0.18.0,>=0.15.0->httpx<0.25.0,>=0.15.4->mixedbread-ai) (1.2.0)\r\n",
      "Note: you may need to restart the kernel to use updated packages.\n"
     ]
    }
   ],
   "source": [
    "%pip install -U sentence_transformers mixedbread-ai"
   ]
  },
  {
   "cell_type": "code",
   "execution_count": 20,
   "metadata": {
    "ExecuteTime": {
     "end_time": "2024-04-02T11:38:57.343354Z",
     "start_time": "2024-04-02T11:38:57.336464Z"
    }
   },
   "outputs": [],
   "source": [
    "from mixedbread_ai.client import MixedbreadAI, AsyncMixedbreadAI"
   ]
  },
  {
   "cell_type": "code",
   "execution_count": 21,
   "metadata": {
    "ExecuteTime": {
     "end_time": "2024-04-02T11:38:59.249965Z",
     "start_time": "2024-04-02T11:38:59.228699Z"
    }
   },
   "outputs": [],
   "source": [
    "api_key = \"YOUR_API_KEY\"\n",
    "\n",
    "mxbai = MixedbreadAI(api_key=api_key)\n",
    "mxbai_async = AsyncMixedbreadAI(api_key=api_key)"
   ]
  },
  {
   "cell_type": "code",
   "execution_count": 12,
   "metadata": {
    "ExecuteTime": {
     "end_time": "2024-04-02T11:39:00.625966Z",
     "start_time": "2024-04-02T11:39:00.109003Z"
    }
   },
   "outputs": [
    {
     "name": "stderr",
     "output_type": "stream",
     "text": [
      "/var/folders/pf/9bv_cdgx7kg9cc6dlf26zktw0000gn/T/ipykernel_75082/2345970236.py:12: RuntimeWarning: coroutine 'AsyncMixedbreadAI.reranking' was never awaited\n",
      "  reranked = mxbai.reranking(\n",
      "RuntimeWarning: Enable tracemalloc to get the object allocation traceback\n"
     ]
    },
    {
     "data": {
      "text/plain": [
       "RerankingResponse(usage=Usage(prompt_tokens=307, total_tokens=307, completion_tokens=None), model='mixedbread-ai/mxbai-rerank-large-v1', data=[RankedDocument(index=0, score=0.9980469, input=None, object=<ObjectType.TEXT_DOCUMENT: 'text_document'>), RankedDocument(index=2, score=0.9970703, input=None, object=<ObjectType.TEXT_DOCUMENT: 'text_document'>), RankedDocument(index=5, score=0.029418945, input=None, object=<ObjectType.TEXT_DOCUMENT: 'text_document'>), RankedDocument(index=3, score=0.025283813, input=None, object=<ObjectType.TEXT_DOCUMENT: 'text_document'>), RankedDocument(index=1, score=0.02281189, input=None, object=<ObjectType.TEXT_DOCUMENT: 'text_document'>), RankedDocument(index=4, score=0.006072998, input=None, object=<ObjectType.TEXT_DOCUMENT: 'text_document'>)], object=<ObjectType.LIST: 'list'>, top_k=6, return_input=False)"
      ]
     },
     "execution_count": 12,
     "metadata": {},
     "output_type": "execute_result"
    }
   ],
   "source": [
    "model = \"mixedbread-ai/mxbai-rerank-large-v1\"\n",
    "query = \"Who wrote 'To Kill a Mockingbird'?\"\n",
    "documents = [\n",
    "    \"'To Kill a Mockingbird' is a novel by Harper Lee published in 1960. It was immediately successful, winning the Pulitzer Prize, and has become a classic of modern American literature.\",\n",
    "    \"The novel 'Moby-Dick' was written by Herman Melville and first published in 1851. It is considered a masterpiece of American literature and deals with complex themes of obsession, revenge, and the conflict between good and evil.\",\n",
    "    \"Harper Lee, an American novelist widely known for her novel 'To Kill a Mockingbird', was born in 1926 in Monroeville, Alabama. She received the Pulitzer Prize for Fiction in 1961.\",\n",
    "    \"Jane Austen was an English novelist known primarily for her six major novels, which interpret, critique and comment upon the British landed gentry at the end of the 18th century.\",\n",
    "    \"The 'Harry Potter' series, which consists of seven fantasy novels written by British author J.K. Rowling, is among the most popular and critically acclaimed books of the modern era.\",\n",
    "    \"'The Great Gatsby', a novel written by American author F. Scott Fitzgerald, was published in 1925. The story is set in the Jazz Age and follows the life of millionaire Jay Gatsby and his pursuit of Daisy Buchanan.\"\n",
    "]\n",
    "\n",
    "reranked = mxbai.reranking(\n",
    "    model=model,\n",
    "    query=query,\n",
    "    input=documents\n",
    ")\n",
    "\n",
    "await mxbai_async.reranking(\n",
    "    model=model,\n",
    "    query=query,\n",
    "    input=documents\n",
    ")"
   ]
  }
 ],
 "metadata": {
  "kernelspec": {
   "display_name": "Python 3",
   "language": "python",
   "name": "python3"
  },
  "language_info": {
   "codemirror_mode": {
    "name": "ipython",
    "version": 3
   },
   "file_extension": ".py",
   "mimetype": "text/x-python",
   "name": "python",
   "nbconvert_exporter": "python",
   "pygments_lexer": "ipython3",
   "version": "3.9.6"
  }
 },
 "nbformat": 4,
 "nbformat_minor": 2
}
